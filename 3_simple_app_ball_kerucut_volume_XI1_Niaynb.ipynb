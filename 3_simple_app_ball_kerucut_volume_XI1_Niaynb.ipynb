{
  "nbformat": 4,
  "nbformat_minor": 0,
  "metadata": {
    "colab": {
      "provenance": [],
      "authorship_tag": "ABX9TyN5u0l9prz/DiHX5+X2RZ4M",
      "include_colab_link": true
    },
    "kernelspec": {
      "name": "python3",
      "display_name": "Python 3"
    },
    "language_info": {
      "name": "python"
    }
  },
  "cells": [
    {
      "cell_type": "markdown",
      "metadata": {
        "id": "view-in-github",
        "colab_type": "text"
      },
      "source": [
        "<a href=\"https://colab.research.google.com/github/niapermatasari1606-lab/kka-semester-1/blob/main/3_simple_app_ball_kerucut_volume_XI1_Niaynb.ipynb\" target=\"_parent\"><img src=\"https://colab.research.google.com/assets/colab-badge.svg\" alt=\"Open In Colab\"/></a>"
      ]
    },
    {
      "cell_type": "markdown",
      "source": [
        "Nama : Nia permata sari\n",
        "Kelas : Xl-1\n",
        "No absen : 29\n",
        "Nama kelompok : perfect"
      ],
      "metadata": {
        "id": "NSQPIKcWiIhD"
      }
    },
    {
      "cell_type": "markdown",
      "source": [
        "#Aplikasi sederhana menghitung volume kerucut"
      ],
      "metadata": {
        "id": "3Ck3E5d-kBCu"
      }
    },
    {
      "cell_type": "code",
      "source": [
        "\n",
        "jari_jari = float(input(\"masukkan jari jari kerucut: \"))\n",
        "tinggi = float(input(\"masukkan tinggi kerucut: \"))\n",
        "pi = 3.14\n",
        "\n",
        "volume = (1/3) * pi * (jari_jari**2) * tinggi\n",
        "print(f\" volume kerucut adalah {volume} cm^3\")"
      ],
      "metadata": {
        "colab": {
          "base_uri": "https://localhost:8080/"
        },
        "id": "XPVKJs0diUD8",
        "outputId": "40e86784-3943-4b81-ce1c-4595012bacfc"
      },
      "execution_count": null,
      "outputs": [
        {
          "output_type": "stream",
          "name": "stdout",
          "text": [
            "masukkan jari jari kerucut: 7\n",
            "masukkan tinggi kerucut: 10\n",
            " volume kerucut adalah 512.8666666666666 cm^3\n"
          ]
        }
      ]
    }
  ]
}